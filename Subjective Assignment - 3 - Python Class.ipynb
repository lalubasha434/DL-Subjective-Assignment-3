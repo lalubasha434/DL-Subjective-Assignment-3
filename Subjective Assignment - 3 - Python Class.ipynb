{
 "cells": [
  {
   "cell_type": "markdown",
   "metadata": {},
   "source": [
    "# Assignment"
   ]
  },
  {
   "cell_type": "markdown",
   "metadata": {},
   "source": [
    "Q1. Write the Python class to convert an integer to a roman numeral?"
   ]
  },
  {
   "cell_type": "code",
   "execution_count": 1,
   "metadata": {},
   "outputs": [
    {
     "name": "stdout",
     "output_type": "stream",
     "text": [
      "XL\n",
      "DXL\n",
      "MDXL\n"
     ]
    }
   ],
   "source": [
    "class Roman_Letter_Conversion:\n",
    "    \n",
    "    def Integer_to_Roman(self, number):\n",
    "        Int_val = [1000, 900, 500, 400, 100, 90, 50, 40, 10, 9, 5, 4, 1]\n",
    "        Roman_syb = [\"M\", \"CM\", \"D\", \"CD\", \"C\", \"XC\", \"L\", \"XL\", \"X\", \"IX\", \"V\", \"IV\", \"I\"]\n",
    "        Roman_number = ''\n",
    "        i = 0\n",
    "        \n",
    "        while  number > 0:\n",
    "            for _ in range(number // Int_val[i]):\n",
    "                Roman_number += Roman_syb[i]\n",
    "                number -= Int_val[i]\n",
    "                \n",
    "            i += 1\n",
    "                   \n",
    "        return Roman_number\n",
    "\n",
    "\n",
    "print(Roman_Letter_Conversion().Integer_to_Roman(40))\n",
    "print(Roman_Letter_Conversion().Integer_to_Roman(540))\n",
    "print(Roman_Letter_Conversion().Integer_to_Roman(1540))"
   ]
  },
  {
   "cell_type": "markdown",
   "metadata": {},
   "source": [
    "Q2 Write the Python class to convert a Roman numeral to an integer?\n"
   ]
  },
  {
   "cell_type": "code",
   "execution_count": 2,
   "metadata": {},
   "outputs": [
    {
     "name": "stdout",
     "output_type": "stream",
     "text": [
      "40\n",
      "540\n",
      "2540\n"
     ]
    }
   ],
   "source": [
    "class Roman_Integer_Conversion:\n",
    "    def Roman_to_Int(self, s):\n",
    "        Roman_val = {'I': 1, 'V': 5, 'X': 10, 'L': 50, 'C': 100, 'D': 500, 'M': 1000}\n",
    "        Int_val = 0\n",
    "        \n",
    "        for i in range(len(s)):\n",
    "            \n",
    "            if i > 0 and Roman_val[s[i]] > Roman_val[s[i - 1]]:\n",
    "                Int_val += Roman_val[s[i]] - 2 * Roman_val[s[i - 1]]\n",
    "            \n",
    "            else:\n",
    "                Int_val += Roman_val[s[i]]\n",
    "                \n",
    "        return Int_val\n",
    "    \n",
    "\n",
    "print(Roman_Integer_Conversion().Roman_to_Int('XL'))\n",
    "print(Roman_Integer_Conversion().Roman_to_Int('DXL'))\n",
    "print(Roman_Integer_Conversion().Roman_to_Int('MMDXL'))"
   ]
  },
  {
   "cell_type": "markdown",
   "metadata": {},
   "source": [
    "Q3. Write the Python class to find the validity of the string of the\n",
    "parentheses, '(', ')', '{', '}', '[' and '] and the brackets must be closed\n",
    "in the correct order, example - \"()\" and \"()[]{}\" are valid but \"[)\",\n",
    "\"({[)]\" and \"{{{\" are invalid.\n"
   ]
  },
  {
   "cell_type": "code",
   "execution_count": 3,
   "metadata": {},
   "outputs": [
    {
     "name": "stdout",
     "output_type": "stream",
     "text": [
      "True\n",
      "False\n",
      "True\n",
      "False\n"
     ]
    }
   ],
   "source": [
    "class parentheses_check:\n",
    "    \n",
    "    def is_valid_parentheses(self, str1):\n",
    "        stack, parentheses_char = [], {\"(\": \")\", \"{\": \"}\", \"[\": \"]\"}\n",
    "        \n",
    "        for parentheses in str1:\n",
    "            \n",
    "            if parentheses in parentheses_char:\n",
    "                stack.append(parentheses)\n",
    "                \n",
    "            elif len(stack) == 0 or parentheses_char[stack.pop()] != parentheses:\n",
    "                return False\n",
    "        \n",
    "        return len(stack) == 0\n",
    "\n",
    "print(parentheses_check().is_valid_parentheses(\"(){}[]\"))\n",
    "print(parentheses_check().is_valid_parentheses(\"()[{)}\"))\n",
    "print(parentheses_check().is_valid_parentheses(\"{}\"))\n",
    "print(parentheses_check().is_valid_parentheses(\"[\"))"
   ]
  },
  {
   "cell_type": "markdown",
   "metadata": {},
   "source": [
    "Q4. Write the Python class to get all possible unique subsets from a set\n",
    "of distinct integers?\n",
    "\n",
    "    Input - [4, 5, 6]\n",
    "    Output - [[], [6], [5], [5, 6], [4], [4, 6], [4, 5], [4, 5, 6]]"
   ]
  },
  {
   "cell_type": "code",
   "execution_count": 4,
   "metadata": {},
   "outputs": [
    {
     "name": "stdout",
     "output_type": "stream",
     "text": [
      "[[], [6], [5], [5, 6], [4], [4, 6], [4, 5], [4, 5, 6]]\n"
     ]
    }
   ],
   "source": [
    "class unique_sets:\n",
    "    def sub_sets(self, sset):\n",
    "        return self.subsetsRecur([], sorted(sset))\n",
    "    \n",
    "    def subsetsRecur(self, current, sset):\n",
    "        if sset:\n",
    "            return self.subsetsRecur(current, sset[1:]) + self.subsetsRecur(current + [sset[0]], sset[1:])\n",
    "        return [current]\n",
    "\n",
    "print(unique_sets().sub_sets([4,5,6]))"
   ]
  },
  {
   "cell_type": "markdown",
   "metadata": {},
   "source": [
    "Q5. Write the Python class to find a pair of elements (indices of the two\n",
    "numbers) from a given array whose sum equals the specific target\n",
    "number?\n",
    "\n",
    "    Input: numbers- [10,20,10,40,50,60,70], target=50\n",
    "    Output- 3, 4"
   ]
  },
  {
   "cell_type": "code",
   "execution_count": 5,
   "metadata": {},
   "outputs": [
    {
     "name": "stdout",
     "output_type": "stream",
     "text": [
      "\n",
      " Index of first number of a pair: 2 \n",
      " Index of second number of a pair: 3\n"
     ]
    }
   ],
   "source": [
    "class sum_target_indices:\n",
    "    def sum_two(self, nums, target):\n",
    "        check = {}\n",
    "            \n",
    "        for i, num in enumerate(nums):\n",
    "            \n",
    "            if target - num in check:\n",
    "                return (check[target - num], i )\n",
    "            \n",
    "            check[num] = i\n",
    "            \n",
    "\n",
    "print(\"\\n Index of first number of a pair: %d \\n Index of second number of a pair: %d\" % sum_target_indices().sum_two([10,20,10,40,50,60,70],50))"
   ]
  },
  {
   "cell_type": "markdown",
   "metadata": {},
   "source": [
    "Q6. Write the Python class to find the three elements that sum to zero\n",
    "from the set of n real numbers?\n",
    "\n",
    "    Input array- [-25, -10, -7, -3, 2, 4, 8, 10]\n",
    "    Output - [[-10, 2, 8], [-7, -3, 10]]\n"
   ]
  },
  {
   "cell_type": "code",
   "execution_count": 6,
   "metadata": {},
   "outputs": [
    {
     "name": "stdout",
     "output_type": "stream",
     "text": [
      "[[-10, 2, 8], [-7, -3, 10]]\n"
     ]
    }
   ],
   "source": [
    "class zero_sum:\n",
    "    \n",
    "    def sum_of_three(self, nums):\n",
    "        nums = sorted(nums)\n",
    "        result = []\n",
    "        i=0\n",
    "        \n",
    "        while i < len(nums) - 2:\n",
    "            j = i + 1\n",
    "            k = len(nums) - 1\n",
    "            \n",
    "            while j < k:\n",
    "                if nums[i] + nums[j] + nums[k] < 0:\n",
    "                    j += 1\n",
    "                \n",
    "                elif nums[i] + nums[j] + nums[k] > 0:\n",
    "                    k -= 1\n",
    "                \n",
    "                else:\n",
    "                    result.append([nums[i], nums[j], nums[k]])\n",
    "                    j += 1\n",
    "                    k -= 1\n",
    "                    \n",
    "                    while j < k and nums[j] == nums[j - 1]:\n",
    "                        j += 1\n",
    "                    \n",
    "                    while j < k and nums[k] == nums[k + 1]:\n",
    "                        k -= 1\n",
    "            i += 1\n",
    "            \n",
    "            while i < len(nums) - 2 and nums[i] == nums[i - 1]:\n",
    "                i += 1\n",
    "        \n",
    "        return result\n",
    "\n",
    "print(zero_sum().sum_of_three([-25, -10, -7, -3, 2, 4, 8, 10]))"
   ]
  },
  {
   "cell_type": "markdown",
   "metadata": {},
   "source": [
    "Q7. Write the Python class to implement pow(x, n)?"
   ]
  },
  {
   "cell_type": "code",
   "execution_count": 7,
   "metadata": {},
   "outputs": [
    {
     "name": "stdout",
     "output_type": "stream",
     "text": [
      "0.0625\n",
      "16\n",
      "100000\n"
     ]
    }
   ],
   "source": [
    "class power_of_xn:\n",
    "    \n",
    "    def pow(self, x, n):\n",
    "        if x==0 or x==1 or n==1:\n",
    "            return x \n",
    "\n",
    "        if x==-1:\n",
    "            if n%2 ==0:\n",
    "                return 1\n",
    "            else:\n",
    "                return -1\n",
    "        if n==0:\n",
    "            return 1\n",
    "        if n<0:\n",
    "            return 1/self.pow(x,-n)\n",
    "        value = self.pow(x,n//2)\n",
    "        \n",
    "        if n%2 ==0:\n",
    "            return value*value\n",
    "        return value*value*x\n",
    "\n",
    "print(power_of_xn().pow(4, -2));\n",
    "print(power_of_xn().pow(4, 2));\n",
    "print(power_of_xn().pow(10, 5));"
   ]
  },
  {
   "cell_type": "markdown",
   "metadata": {},
   "source": [
    "Q8. Write the Python class which has two methods get_String and\n",
    "print_String. get_String accept the string from the user and \n",
    "print_String print the string in upper case."
   ]
  },
  {
   "cell_type": "code",
   "execution_count": 8,
   "metadata": {},
   "outputs": [
    {
     "name": "stdout",
     "output_type": "stream",
     "text": [
      "iNeuron\n",
      "Input given by the user   : iNeuron\n",
      "Upper case of user's input: INEURON\n"
     ]
    }
   ],
   "source": [
    "class IP_String():\n",
    "    def __init__(self):\n",
    "        self.str1 = \"\"\n",
    "\n",
    "    def get_String(self):\n",
    "        self.str1 = input()\n",
    "        print(\"Input given by the user   :\",self.str1)\n",
    "\n",
    "    def print_String(self):\n",
    "        print(\"Upper case of user's input:\",self.str1.upper())\n",
    "\n",
    "str1 = IP_String()\n",
    "str1.get_String()\n",
    "str1.print_String()"
   ]
  },
  {
   "cell_type": "markdown",
   "metadata": {},
   "source": [
    "Q9. Write the Python class named Rectangle constructed by a length\n",
    "and width and the method which will compute the area of the\n",
    "rectangle?"
   ]
  },
  {
   "cell_type": "code",
   "execution_count": 9,
   "metadata": {},
   "outputs": [
    {
     "name": "stdout",
     "output_type": "stream",
     "text": [
      "140\n"
     ]
    }
   ],
   "source": [
    "class Rectangle():\n",
    "    def __init__(self, length, width):\n",
    "        self.length = length\n",
    "        self.width  = width\n",
    "\n",
    "    def rectangle_area(self):\n",
    "        return self.length*self.width\n",
    "\n",
    "rectangle_area_cal = Rectangle(14,10)\n",
    "print(rectangle_area_cal.rectangle_area())"
   ]
  },
  {
   "cell_type": "markdown",
   "metadata": {},
   "source": [
    "Q10. Write the Python class named Circle constructed by the radius\n",
    "and two methods which will compute the area and perimeter of\n",
    "the circle?"
   ]
  },
  {
   "cell_type": "code",
   "execution_count": 10,
   "metadata": {},
   "outputs": [
    {
     "name": "stdout",
     "output_type": "stream",
     "text": [
      "314.0\n",
      "62.800000000000004\n"
     ]
    }
   ],
   "source": [
    "class Circle():\n",
    "    def __init__(self, r):\n",
    "        self.radius = r\n",
    "  \n",
    "    def area(self):\n",
    "        return (self.radius**2*3.140)\n",
    "    \n",
    "    def perimeter(self):\n",
    "        return (2*self.radius*3.140)\n",
    "\n",
    "New_Circle = Circle(10)\n",
    "print(New_Circle.area())\n",
    "print(New_Circle.perimeter())"
   ]
  },
  {
   "cell_type": "markdown",
   "metadata": {},
   "source": [
    "Q11. Write the Python program to get the class name of an instance in\n",
    "Python?"
   ]
  },
  {
   "cell_type": "code",
   "execution_count": 11,
   "metadata": {},
   "outputs": [
    {
     "name": "stdout",
     "output_type": "stream",
     "text": [
      "cycle\n"
     ]
    }
   ],
   "source": [
    "import itertools\n",
    "x = itertools.cycle('XYZ')\n",
    "print(type(x).__name__)"
   ]
  },
  {
   "cell_type": "markdown",
   "metadata": {},
   "source": [
    "Q12. Write the Python program to count the number of students of\n",
    "individual class?\n",
    "\n",
    "    Sample dataclasses = (\n",
    "    ('V', 1),\n",
    "    ('VI', 1),\n",
    "    ('V', 2),\n",
    "    ('VI', 2),\n",
    "    ('VI', 3),\n",
    "    ('VII', 1),\n",
    "    )\n",
    "    Expected OutputCounter({'VI': 3, 'V': 2, 'VII': 1})"
   ]
  },
  {
   "cell_type": "code",
   "execution_count": 12,
   "metadata": {},
   "outputs": [
    {
     "name": "stdout",
     "output_type": "stream",
     "text": [
      "Counter({'VI': 3, 'V': 2, 'VII': 1})\n"
     ]
    }
   ],
   "source": [
    "from collections import Counter\n",
    "Data_of_classes = (\n",
    "    ('V', 1),\n",
    "    ('VI', 1),\n",
    "    ('V', 2),\n",
    "    ('VI', 2),\n",
    "    ('VI', 3),\n",
    "    ('VII', 1),)\n",
    "\n",
    "students = Counter(class_name for class_name, no_students in Data_of_classes)\n",
    "print(students)"
   ]
  },
  {
   "cell_type": "code",
   "execution_count": null,
   "metadata": {},
   "outputs": [],
   "source": []
  }
 ],
 "metadata": {
  "kernelspec": {
   "display_name": "Python 3",
   "language": "python",
   "name": "python3"
  },
  "language_info": {
   "codemirror_mode": {
    "name": "ipython",
    "version": 3
   },
   "file_extension": ".py",
   "mimetype": "text/x-python",
   "name": "python",
   "nbconvert_exporter": "python",
   "pygments_lexer": "ipython3",
   "version": "3.7.4"
  }
 },
 "nbformat": 4,
 "nbformat_minor": 2
}
